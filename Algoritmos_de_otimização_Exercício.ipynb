{
 "cells": [
  {
   "cell_type": "code",
   "execution_count": 2,
   "metadata": {},
   "outputs": [
    {
     "name": "stdout",
     "output_type": "stream",
     "text": [
      "Collecting mlrose\n",
      "  Using cached mlrose-1.3.0-py3-none-any.whl (27 kB)\n",
      "Requirement already satisfied: scipy in d:\\anaconda\\lib\\site-packages (from mlrose) (1.7.1)\n",
      "Collecting sklearn\n",
      "  Using cached sklearn-0.0-py2.py3-none-any.whl\n",
      "Requirement already satisfied: numpy in d:\\anaconda\\lib\\site-packages (from mlrose) (1.20.3)\n",
      "Requirement already satisfied: scikit-learn in d:\\anaconda\\lib\\site-packages (from sklearn->mlrose) (0.24.2)\n",
      "Requirement already satisfied: threadpoolctl>=2.0.0 in d:\\anaconda\\lib\\site-packages (from scikit-learn->sklearn->mlrose) (2.2.0)\n",
      "Requirement already satisfied: joblib>=0.11 in d:\\anaconda\\lib\\site-packages (from scikit-learn->sklearn->mlrose) (1.1.0)\n",
      "Installing collected packages: sklearn, mlrose\n",
      "Successfully installed mlrose-1.3.0 sklearn-0.0\n"
     ]
    }
   ],
   "source": [
    "!pip install mlrose"
   ]
  },
  {
   "cell_type": "code",
   "execution_count": 5,
   "metadata": {
    "colab": {
     "base_uri": "https://localhost:8080/",
     "height": 449
    },
    "id": "hleIBozb8toR",
    "outputId": "2174ab4d-6b07-4a2c-cb1b-5ffc54aa1064",
    "scrolled": true
   },
   "outputs": [],
   "source": [
    "import six\n",
    "import sys\n",
    "sys.modules['sklearn.externals.six'] = six\n",
    "import mlrose"
   ]
  },
  {
   "cell_type": "markdown",
   "metadata": {
    "id": "Xml6KEv8EALJ"
   },
   "source": [
    "## Representação do problema"
   ]
  },
  {
   "cell_type": "code",
   "execution_count": 7,
   "metadata": {
    "id": "b1gjL__9DlKp"
   },
   "outputs": [],
   "source": [
    "Prod_names = ['Refrigerador A','Notebook A','Microondas C',\n",
    "            'Celular','Ventilador','Refrigerador B','Tv 55',\n",
    "            'Tv 50','Tv 42','Microondas A', 'Refrigerador C',\n",
    "            'Microondas B', 'Notebook B','Notebook C']\n",
    "\n",
    "# Dicionarios com informações dos produtos\n",
    "Prod_info = {'Refrigerador A' : [0.751 , 999.90],\n",
    "                 'Notebook A' : [0.00350 , 2499.90],\n",
    "                 'Microondas C' : [0.0319 , 299.29],\n",
    "                 'Celular' : [0.0000899 , 2199.12],\n",
    "                 'Ventilador' : [0.496 , 199.90],\n",
    "                 'Refrigerador B' : [0.635, 849.00],\n",
    "                 'Tv 55' : [0.400 , 4346.99],\n",
    "                 'Tv 50' : [0.290 , 3999.90],\n",
    "                 'Tv 42' : [0.200 , 2999.90],\n",
    "                 'Microondas A' : [0.0424 , 308.66],\n",
    "                 'Refrigerador C' : [0.870 , 1199.89],\n",
    "                 'Microondas B' : [0.0544 , 429.90],\n",
    "                 'Notebook B' : [0.498 , 1999.90],\n",
    "                 'Notebook C' : [0.527 , 3999.00]\n",
    "                 }"
   ]
  },
  {
   "cell_type": "code",
   "execution_count": 8,
   "metadata": {
    "colab": {
     "base_uri": "https://localhost:8080/"
    },
    "id": "nG1nHK59JL3a",
    "outputId": "c9835c94-0210-4508-88f2-912624a33d19"
   },
   "outputs": [
    {
     "data": {
      "text/plain": [
       "{'Refrigerador A': [0.751, 999.9],\n",
       " 'Notebook A': [0.0035, 2499.9],\n",
       " 'Microondas C': [0.0319, 299.29],\n",
       " 'Celular': [8.99e-05, 2199.12],\n",
       " 'Ventilador': [0.496, 199.9],\n",
       " 'Refrigerador B': [0.635, 849.0],\n",
       " 'Tv 55': [0.4, 4346.99],\n",
       " 'Tv 50': [0.29, 3999.9],\n",
       " 'Tv 42': [0.2, 2999.9],\n",
       " 'Microondas A': [0.0424, 308.66],\n",
       " 'Refrigerador C': [0.87, 1199.89],\n",
       " 'Microondas B': [0.0544, 429.9],\n",
       " 'Notebook B': [0.498, 1999.9],\n",
       " 'Notebook C': [0.527, 3999.0]}"
      ]
     },
     "execution_count": 8,
     "metadata": {},
     "output_type": "execute_result"
    }
   ],
   "source": [
    "Prod_info"
   ]
  },
  {
   "cell_type": "code",
   "execution_count": 9,
   "metadata": {
    "colab": {
     "base_uri": "https://localhost:8080/"
    },
    "id": "yE477VnhJN3X",
    "outputId": "ea7017a1-0cb0-4d5e-9981-ec53f47e81fd"
   },
   "outputs": [
    {
     "data": {
      "text/plain": [
       "[8.99e-05, 2199.12]"
      ]
     },
     "execution_count": 9,
     "metadata": {},
     "output_type": "execute_result"
    }
   ],
   "source": [
    "Prod_info['Celular']"
   ]
  },
  {
   "cell_type": "code",
   "execution_count": 10,
   "metadata": {
    "colab": {
     "base_uri": "https://localhost:8080/"
    },
    "id": "i8BQMGmWJVmO",
    "outputId": "636164ce-91ec-4007-e2c0-c2bbd53e3a3f"
   },
   "outputs": [
    {
     "data": {
      "text/plain": [
       "0.751"
      ]
     },
     "execution_count": 10,
     "metadata": {},
     "output_type": "execute_result"
    }
   ],
   "source": [
    "Prod_info['Refrigerador A'][0]"
   ]
  },
  {
   "cell_type": "markdown",
   "metadata": {
    "id": "wPQfFOjzMTg7"
   },
   "source": [
    "## Print Function"
   ]
  },
  {
   "cell_type": "code",
   "execution_count": 11,
   "metadata": {
    "id": "s_EMSQ6WMSWP"
   },
   "outputs": [],
   "source": [
    "# list_prod lista de 0 ou 1, 0 quando o produto não está no caminhão\n",
    "# e 1 quando está. o produto é definido pela ordem da lista Produtos_nomes.\n",
    "def print_prod(list_prod): \n",
    "  prod_print = []\n",
    "  for i in range(len(list_prod)):\n",
    "    if list_prod[i] == 1:\n",
    "      prod_print.append(Prod_names[i])\n",
    "  print(prod_print)\n",
    "  return"
   ]
  },
  {
   "cell_type": "code",
   "execution_count": 12,
   "metadata": {
    "colab": {
     "base_uri": "https://localhost:8080/"
    },
    "id": "Z78GqaOVR0lG",
    "outputId": "2fb0191c-c55f-4a9d-8d60-6d064fd693fe"
   },
   "outputs": [
    {
     "name": "stdout",
     "output_type": "stream",
     "text": [
      "['Refrigerador A', 'Notebook C']\n"
     ]
    }
   ],
   "source": [
    "# list_prod lista de 0 ou 1, 0 quando o produto não está no caminhão e 1 quando está. o produto é definido pela ordem da lista Produtos_nomes.\n",
    "list_prod = [1,0,0,0,0,0,0,0,0,0,0,0,0,1] \n",
    "print_prod(list_prod)"
   ]
  },
  {
   "cell_type": "markdown",
   "metadata": {
    "id": "djRlDFrVL1g3"
   },
   "source": [
    "## Fitness Function"
   ]
  },
  {
   "cell_type": "code",
   "execution_count": 13,
   "metadata": {
    "id": "chYYT2lqL-qV"
   },
   "outputs": [],
   "source": [
    "def Fitness_Func(list_prod): \n",
    "\n",
    "  Capacity_max = 3\n",
    "  Capacity_used = 0\n",
    "  Value_total = 0\n",
    "\n",
    "  for i in range(len(list_prod)):\n",
    "\n",
    "    if list_prod[i] == 1:\n",
    "     Capacity_used += Prod_info[Prod_names[i]][0]\n",
    "\n",
    "     if Capacity_used < Capacity_max:\n",
    "       Value_total += Prod_info[Prod_names[i]][1]\n",
    "     else:\n",
    "       Value_total = 0\n",
    "  return Value_total"
   ]
  },
  {
   "cell_type": "code",
   "execution_count": 14,
   "metadata": {
    "colab": {
     "base_uri": "https://localhost:8080/"
    },
    "id": "AI0iyETuXPsm",
    "outputId": "0b436f8c-9279-4aa6-e28c-fc27d988b040"
   },
   "outputs": [
    {
     "data": {
      "text/plain": [
       "0"
      ]
     },
     "execution_count": 14,
     "metadata": {},
     "output_type": "execute_result"
    }
   ],
   "source": [
    "# list_prod lista de 0 ou 1, 0 quando o produto não está no caminhão e 1 quando está. o produto é definido pela ordem da lista Produtos_nomes.\n",
    "list_prod = [1,1,1,1,1,1,1,1,0,0,0,0,0,1] \n",
    "Fitness_Func(list_prod)"
   ]
  },
  {
   "cell_type": "code",
   "execution_count": 15,
   "metadata": {},
   "outputs": [],
   "source": [
    "fitness = mlrose.CustomFitness(Fitness_Func) #criando objeto mlrose fitnessfunction"
   ]
  },
  {
   "cell_type": "code",
   "execution_count": 17,
   "metadata": {},
   "outputs": [],
   "source": [
    "problema = mlrose.DiscreteOpt(length = 14, fitness_fn = fitness, maximize = True, max_val = 2)"
   ]
  },
  {
   "cell_type": "markdown",
   "metadata": {
    "id": "eNenrkXYbZZu"
   },
   "source": [
    "## Hill Climb"
   ]
  },
  {
   "cell_type": "code",
   "execution_count": 41,
   "metadata": {
    "id": "GOZkzCWDXVIH"
   },
   "outputs": [
    {
     "name": "stdout",
     "output_type": "stream",
     "text": [
      "[0 1 1 1 0 0 1 1 1 1 1 1 1 1] 24282.45\n",
      "['Notebook A', 'Microondas C', 'Celular', 'Tv 55', 'Tv 50', 'Tv 42', 'Microondas A', 'Refrigerador C', 'Microondas B', 'Notebook B', 'Notebook C']\n"
     ]
    }
   ],
   "source": [
    "melhor_solução, melhor_custo = mlrose.hill_climb(problema)\n",
    "print(melhor_solução, melhor_custo)\n",
    "print_prod(melhor_solução)"
   ]
  },
  {
   "cell_type": "markdown",
   "metadata": {},
   "source": [
    "## Simulated annealing"
   ]
  },
  {
   "cell_type": "code",
   "execution_count": 45,
   "metadata": {},
   "outputs": [
    {
     "name": "stdout",
     "output_type": "stream",
     "text": [
      "[0 1 1 1 0 1 1 1 1 1 0 1 1 1] 23931.56\n",
      "['Notebook A', 'Microondas C', 'Celular', 'Refrigerador B', 'Tv 55', 'Tv 50', 'Tv 42', 'Microondas A', 'Microondas B', 'Notebook B', 'Notebook C']\n"
     ]
    }
   ],
   "source": [
    "melhor_solução, melhor_custo = mlrose.simulated_annealing(problema)\n",
    "print(melhor_solução, melhor_custo)\n",
    "print_prod(melhor_solução)"
   ]
  },
  {
   "cell_type": "markdown",
   "metadata": {},
   "source": [
    "## Algoritmo genético"
   ]
  },
  {
   "cell_type": "code",
   "execution_count": 47,
   "metadata": {},
   "outputs": [
    {
     "name": "stdout",
     "output_type": "stream",
     "text": [
      "[1 1 1 1 0 0 1 1 1 1 0 1 1 1] 24082.460000000003\n",
      "['Refrigerador A', 'Notebook A', 'Microondas C', 'Celular', 'Tv 55', 'Tv 50', 'Tv 42', 'Microondas A', 'Microondas B', 'Notebook B', 'Notebook C']\n"
     ]
    }
   ],
   "source": [
    "melhor_solução, melhor_custo = mlrose.genetic_alg(problema, pop_size = 500, mutation_prob = 0.2)\n",
    "print(melhor_solução, melhor_custo)\n",
    "print_prod(melhor_solução)"
   ]
  }
 ],
 "metadata": {
  "colab": {
   "collapsed_sections": [],
   "name": "Cópia de Algoritmos de otimização - calendário de voos.ipynb",
   "provenance": []
  },
  "kernelspec": {
   "display_name": "Python 3 (ipykernel)",
   "language": "python",
   "name": "python3"
  },
  "language_info": {
   "codemirror_mode": {
    "name": "ipython",
    "version": 3
   },
   "file_extension": ".py",
   "mimetype": "text/x-python",
   "name": "python",
   "nbconvert_exporter": "python",
   "pygments_lexer": "ipython3",
   "version": "3.9.7"
  }
 },
 "nbformat": 4,
 "nbformat_minor": 1
}
